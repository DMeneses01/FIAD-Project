{
 "cells": [
  {
   "cell_type": "code",
   "execution_count": 1,
   "metadata": {},
   "outputs": [],
   "source": [
    "import pandas as pd\n",
    "import numpy as np"
   ]
  },
  {
   "cell_type": "code",
   "execution_count": 2,
   "metadata": {},
   "outputs": [
    {
     "data": {
      "text/html": [
       "<div>\n",
       "<style scoped>\n",
       "    .dataframe tbody tr th:only-of-type {\n",
       "        vertical-align: middle;\n",
       "    }\n",
       "\n",
       "    .dataframe tbody tr th {\n",
       "        vertical-align: top;\n",
       "    }\n",
       "\n",
       "    .dataframe thead th {\n",
       "        text-align: right;\n",
       "    }\n",
       "</style>\n",
       "<table border=\"1\" class=\"dataframe\">\n",
       "  <thead>\n",
       "    <tr style=\"text-align: right;\">\n",
       "      <th></th>\n",
       "      <th>GENDER</th>\n",
       "      <th>AGE</th>\n",
       "      <th>RF</th>\n",
       "      <th>SBP</th>\n",
       "      <th>HR1</th>\n",
       "      <th>ST</th>\n",
       "      <th>HR2</th>\n",
       "      <th>CRT</th>\n",
       "      <th>KIL</th>\n",
       "      <th>EVENT</th>\n",
       "      <th>HR</th>\n",
       "      <th>GUIDELINES</th>\n",
       "    </tr>\n",
       "  </thead>\n",
       "  <tbody>\n",
       "    <tr>\n",
       "      <th>0</th>\n",
       "      <td>1.0</td>\n",
       "      <td>33.0</td>\n",
       "      <td>0.0</td>\n",
       "      <td>132.0</td>\n",
       "      <td>91.579173</td>\n",
       "      <td>1.0</td>\n",
       "      <td>90.0</td>\n",
       "      <td>0.8</td>\n",
       "      <td>1.0</td>\n",
       "      <td>0.0</td>\n",
       "      <td>90.092893</td>\n",
       "      <td>0</td>\n",
       "    </tr>\n",
       "    <tr>\n",
       "      <th>1</th>\n",
       "      <td>1.0</td>\n",
       "      <td>69.0</td>\n",
       "      <td>0.0</td>\n",
       "      <td>147.0</td>\n",
       "      <td>52.785861</td>\n",
       "      <td>0.0</td>\n",
       "      <td>52.0</td>\n",
       "      <td>1.4</td>\n",
       "      <td>1.0</td>\n",
       "      <td>0.0</td>\n",
       "      <td>52.046227</td>\n",
       "      <td>0</td>\n",
       "    </tr>\n",
       "    <tr>\n",
       "      <th>2</th>\n",
       "      <td>1.0</td>\n",
       "      <td>63.0</td>\n",
       "      <td>0.0</td>\n",
       "      <td>142.0</td>\n",
       "      <td>40.692798</td>\n",
       "      <td>1.0</td>\n",
       "      <td>44.0</td>\n",
       "      <td>1.1</td>\n",
       "      <td>3.0</td>\n",
       "      <td>1.0</td>\n",
       "      <td>43.805459</td>\n",
       "      <td>1</td>\n",
       "    </tr>\n",
       "    <tr>\n",
       "      <th>3</th>\n",
       "      <td>0.0</td>\n",
       "      <td>79.0</td>\n",
       "      <td>0.0</td>\n",
       "      <td>147.0</td>\n",
       "      <td>106.420820</td>\n",
       "      <td>1.0</td>\n",
       "      <td>110.0</td>\n",
       "      <td>0.9</td>\n",
       "      <td>1.0</td>\n",
       "      <td>1.0</td>\n",
       "      <td>109.789460</td>\n",
       "      <td>0</td>\n",
       "    </tr>\n",
       "    <tr>\n",
       "      <th>4</th>\n",
       "      <td>0.0</td>\n",
       "      <td>61.0</td>\n",
       "      <td>0.0</td>\n",
       "      <td>107.0</td>\n",
       "      <td>82.148302</td>\n",
       "      <td>0.0</td>\n",
       "      <td>80.0</td>\n",
       "      <td>1.1</td>\n",
       "      <td>1.0</td>\n",
       "      <td>0.0</td>\n",
       "      <td>80.126371</td>\n",
       "      <td>0</td>\n",
       "    </tr>\n",
       "    <tr>\n",
       "      <th>...</th>\n",
       "      <td>...</td>\n",
       "      <td>...</td>\n",
       "      <td>...</td>\n",
       "      <td>...</td>\n",
       "      <td>...</td>\n",
       "      <td>...</td>\n",
       "      <td>...</td>\n",
       "      <td>...</td>\n",
       "      <td>...</td>\n",
       "      <td>...</td>\n",
       "      <td>...</td>\n",
       "      <td>...</td>\n",
       "    </tr>\n",
       "    <tr>\n",
       "      <th>452</th>\n",
       "      <td>1.0</td>\n",
       "      <td>69.0</td>\n",
       "      <td>0.0</td>\n",
       "      <td>95.0</td>\n",
       "      <td>99.801711</td>\n",
       "      <td>0.0</td>\n",
       "      <td>103.0</td>\n",
       "      <td>1.6</td>\n",
       "      <td>3.0</td>\n",
       "      <td>1.0</td>\n",
       "      <td>102.811865</td>\n",
       "      <td>1</td>\n",
       "    </tr>\n",
       "    <tr>\n",
       "      <th>453</th>\n",
       "      <td>1.0</td>\n",
       "      <td>51.0</td>\n",
       "      <td>1.0</td>\n",
       "      <td>140.0</td>\n",
       "      <td>87.339759</td>\n",
       "      <td>1.0</td>\n",
       "      <td>90.0</td>\n",
       "      <td>1.0</td>\n",
       "      <td>3.0</td>\n",
       "      <td>1.0</td>\n",
       "      <td>89.843515</td>\n",
       "      <td>1</td>\n",
       "    </tr>\n",
       "    <tr>\n",
       "      <th>454</th>\n",
       "      <td>0.0</td>\n",
       "      <td>57.0</td>\n",
       "      <td>0.0</td>\n",
       "      <td>120.0</td>\n",
       "      <td>113.138910</td>\n",
       "      <td>0.0</td>\n",
       "      <td>117.0</td>\n",
       "      <td>1.0</td>\n",
       "      <td>3.0</td>\n",
       "      <td>1.0</td>\n",
       "      <td>116.772877</td>\n",
       "      <td>1</td>\n",
       "    </tr>\n",
       "    <tr>\n",
       "      <th>455</th>\n",
       "      <td>1.0</td>\n",
       "      <td>87.0</td>\n",
       "      <td>0.0</td>\n",
       "      <td>149.0</td>\n",
       "      <td>50.035793</td>\n",
       "      <td>1.0</td>\n",
       "      <td>53.0</td>\n",
       "      <td>1.4</td>\n",
       "      <td>1.0</td>\n",
       "      <td>1.0</td>\n",
       "      <td>52.825635</td>\n",
       "      <td>1</td>\n",
       "    </tr>\n",
       "    <tr>\n",
       "      <th>456</th>\n",
       "      <td>1.0</td>\n",
       "      <td>72.0</td>\n",
       "      <td>0.0</td>\n",
       "      <td>173.0</td>\n",
       "      <td>68.337300</td>\n",
       "      <td>1.0</td>\n",
       "      <td>65.0</td>\n",
       "      <td>1.2</td>\n",
       "      <td>1.0</td>\n",
       "      <td>0.0</td>\n",
       "      <td>65.196312</td>\n",
       "      <td>1</td>\n",
       "    </tr>\n",
       "  </tbody>\n",
       "</table>\n",
       "<p>457 rows × 12 columns</p>\n",
       "</div>"
      ],
      "text/plain": [
       "     GENDER   AGE   RF    SBP         HR1   ST    HR2  CRT  KIL  EVENT  \\\n",
       "0       1.0  33.0  0.0  132.0   91.579173  1.0   90.0  0.8  1.0    0.0   \n",
       "1       1.0  69.0  0.0  147.0   52.785861  0.0   52.0  1.4  1.0    0.0   \n",
       "2       1.0  63.0  0.0  142.0   40.692798  1.0   44.0  1.1  3.0    1.0   \n",
       "3       0.0  79.0  0.0  147.0  106.420820  1.0  110.0  0.9  1.0    1.0   \n",
       "4       0.0  61.0  0.0  107.0   82.148302  0.0   80.0  1.1  1.0    0.0   \n",
       "..      ...   ...  ...    ...         ...  ...    ...  ...  ...    ...   \n",
       "452     1.0  69.0  0.0   95.0   99.801711  0.0  103.0  1.6  3.0    1.0   \n",
       "453     1.0  51.0  1.0  140.0   87.339759  1.0   90.0  1.0  3.0    1.0   \n",
       "454     0.0  57.0  0.0  120.0  113.138910  0.0  117.0  1.0  3.0    1.0   \n",
       "455     1.0  87.0  0.0  149.0   50.035793  1.0   53.0  1.4  1.0    1.0   \n",
       "456     1.0  72.0  0.0  173.0   68.337300  1.0   65.0  1.2  1.0    0.0   \n",
       "\n",
       "             HR  GUIDELINES  \n",
       "0     90.092893           0  \n",
       "1     52.046227           0  \n",
       "2     43.805459           1  \n",
       "3    109.789460           0  \n",
       "4     80.126371           0  \n",
       "..          ...         ...  \n",
       "452  102.811865           1  \n",
       "453   89.843515           1  \n",
       "454  116.772877           1  \n",
       "455   52.825635           1  \n",
       "456   65.196312           1  \n",
       "\n",
       "[457 rows x 12 columns]"
      ]
     },
     "execution_count": 2,
     "metadata": {},
     "output_type": "execute_result"
    }
   ],
   "source": [
    "data = np.loadtxt('DATA.txt')\n",
    "df = pd.DataFrame(data, columns=['GENDER', 'AGE', 'RF', 'SBP', 'HR1', 'ST', 'HR2', 'CRT', 'KIL', 'EVENT'])\n",
    "std_HRBP = 2 \n",
    "std_HRECG = 0.5\n",
    "\n",
    "df['HR'] = std_HRECG**2 / (std_HRBP**2 + std_HRECG**2) * df['HR1'] + std_HRBP**2 / (std_HRBP**2 + std_HRECG**2) * df['HR2']\n",
    "\n",
    "\n",
    "df['GUIDELINES'] = 0\n",
    "df.loc[(df['CRT'] >= 1.2) & (df['ST'] == 1),'GUIDELINES'] = 1\n",
    "df.loc[(df['KIL'] >= 2),'GUIDELINES'] = 1\n",
    "\n",
    "a = df[df['EVENT'] == 1]\n",
    "not_a = df[df['EVENT'] == 0]\n",
    "\n",
    "df\n"
   ]
  },
  {
   "attachments": {},
   "cell_type": "markdown",
   "metadata": {},
   "source": [
    "## Priori"
   ]
  },
  {
   "cell_type": "code",
   "execution_count": 14,
   "metadata": {},
   "outputs": [
    {
     "name": "stdout",
     "output_type": "stream",
     "text": [
      "P(EVENT=1)=0.3916849015317287\n",
      "P(EVENT=0)=0.6083150984682714\n"
     ]
    }
   ],
   "source": [
    "Prob_1 = len(a) / len(df)\n",
    "Prob_0 = len(not_a) / len(df)\n",
    "\n",
    "print(f'P(EVENT=1)={Prob_1}')\n",
    "print(f'P(EVENT=0)={Prob_0}')"
   ]
  },
  {
   "attachments": {},
   "cell_type": "markdown",
   "metadata": {},
   "source": [
    "## Discrete"
   ]
  },
  {
   "cell_type": "code",
   "execution_count": 4,
   "metadata": {},
   "outputs": [],
   "source": [
    "Prob_1_gender = a['GENDER'].value_counts()/len(a)\n",
    "Prob_0_gender = not_a['GENDER'].value_counts()/len(not_a)\n",
    "\n",
    "Prob_1_risk = a['RF'].value_counts()/len(a)\n",
    "Prob_0_risk = not_a['RF'].value_counts()/len(not_a)\n",
    "\n",
    "Prob_1_st = a['ST'].value_counts()/len(a)\n",
    "Prob_0_st = not_a['ST'].value_counts()/len(not_a)\n",
    "\n",
    "Prob_1_kl = a['KIL'].value_counts()/len(a)\n",
    "Prob_0_kl = not_a['KIL'].value_counts()/len(not_a)\n",
    "\n",
    "Prob_1_guid = a['GUIDELINES'].value_counts()/len(a)\n",
    "Prob_0_guid = not_a['GUIDELINES'].value_counts()/len(not_a)"
   ]
  },
  {
   "attachments": {},
   "cell_type": "markdown",
   "metadata": {},
   "source": [
    "## Likelihood"
   ]
  },
  {
   "cell_type": "code",
   "execution_count": 39,
   "metadata": {},
   "outputs": [
    {
     "name": "stdout",
     "output_type": "stream",
     "text": [
      "P(GENDER=1|EVENT=1)=0.7877094972067039\n",
      "P(GENDER=0|EVENT=1)=0.2122905027932961\n",
      "\n",
      "P(GENDER=1|EVENT=0)=0.7877697841726619\n",
      "P(GENDER=0|EVENT=0)=0.21223021582733814\n"
     ]
    }
   ],
   "source": [
    "print(f'P(GENDER=1|EVENT=1)={Prob_1_gender[1]}')\n",
    "print(f'P(GENDER=0|EVENT=1)={Prob_1_gender[0]}')\n",
    "print()\n",
    "print(f'P(GENDER=1|EVENT=0)={Prob_0_gender[1]}')\n",
    "print(f'P(GENDER=0|EVENT=0)={Prob_0_gender[0]}')"
   ]
  },
  {
   "cell_type": "code",
   "execution_count": 40,
   "metadata": {},
   "outputs": [
    {
     "name": "stdout",
     "output_type": "stream",
     "text": [
      "P(RF=1|EVENT=1)=0.15083798882681565\n",
      "P(RF=0|EVENT=1)=0.8491620111731844\n",
      "\n",
      "P(RF=1|EVENT=0)=0.15467625899280577\n",
      "P(RF=0|EVENT=0)=0.8453237410071942\n"
     ]
    }
   ],
   "source": [
    "print(f'P(RF=1|EVENT=1)={Prob_1_risk[1]}')\n",
    "print(f'P(RF=0|EVENT=1)={Prob_1_risk[0]}')\n",
    "print()\n",
    "print(f'P(RF=1|EVENT=0)={Prob_0_risk[1]}')\n",
    "print(f'P(RF=0|EVENT=0)={Prob_0_risk[0]}')"
   ]
  },
  {
   "cell_type": "code",
   "execution_count": 38,
   "metadata": {},
   "outputs": [
    {
     "name": "stdout",
     "output_type": "stream",
     "text": [
      "P(ST=1|EVENT=1)=0.8324022346368715\n",
      "P(ST=0|EVENT=1)=0.16759776536312848\n",
      "\n",
      "P(ST=1|EVENT=0)=0.3381294964028777\n",
      "P(ST=0|EVENT=0)=0.6618705035971223\n"
     ]
    }
   ],
   "source": [
    "print(f'P(ST=1|EVENT=1)={Prob_1_st[1]}')\n",
    "print(f'P(ST=0|EVENT=1)={Prob_1_st[0]}')\n",
    "print()\n",
    "print(f'P(ST=1|EVENT=0)={Prob_0_st[1]}')\n",
    "print(f'P(ST=0|EVENT=0)={Prob_0_st[0]}')"
   ]
  },
  {
   "cell_type": "code",
   "execution_count": 37,
   "metadata": {},
   "outputs": [
    {
     "name": "stdout",
     "output_type": "stream",
     "text": [
      "P(KIL=1|EVENT=1)=0.6815642458100558\n",
      "P(KIL=2|EVENT=1)=0.1452513966480447\n",
      "P(KIL=3|EVENT=1)=0.17318435754189945\n",
      "\n",
      "P(KIL=1|EVENT=0)=0.9748201438848921\n",
      "P(KIL=2|EVENT=0)=0.017985611510791366\n",
      "P(KIL=3|EVENT=1)=0.17318435754189945\n"
     ]
    }
   ],
   "source": [
    "print(f'P(KIL=1|EVENT=1)={Prob_1_kl[1]}')\n",
    "print(f'P(KIL=2|EVENT=1)={Prob_1_kl[2]}')\n",
    "print(f'P(KIL=3|EVENT=1)={Prob_1_kl[3]}')\n",
    "print()\n",
    "print(f'P(KIL=1|EVENT=0)={Prob_0_kl[1]}')\n",
    "print(f'P(KIL=2|EVENT=0)={Prob_0_kl[2]}')\n",
    "print(f'P(KIL=3|EVENT=1)={Prob_1_kl[3]}')"
   ]
  },
  {
   "cell_type": "code",
   "execution_count": 41,
   "metadata": {},
   "outputs": [
    {
     "name": "stdout",
     "output_type": "stream",
     "text": [
      "P(GUID=1|EVENT=1)=0.6368715083798883\n",
      "P(GUID=0|EVENT=1)=0.36312849162011174\n",
      "\n",
      "P(GUID=1|EVENT=0)=0.13309352517985612\n",
      "P(GUID=0|EVENT=0)=0.8669064748201439\n"
     ]
    }
   ],
   "source": [
    "print(f'P(GUID=1|EVENT=1)={Prob_1_guid[1]}')\n",
    "print(f'P(GUID=0|EVENT=1)={Prob_1_guid[0]}')\n",
    "print()\n",
    "print(f'P(GUID=1|EVENT=0)={Prob_0_guid[1]}')\n",
    "print(f'P(GUID=0|EVENT=0)={Prob_0_guid[0]}')"
   ]
  },
  {
   "attachments": {},
   "cell_type": "markdown",
   "metadata": {},
   "source": [
    "## Continuous"
   ]
  },
  {
   "cell_type": "code",
   "execution_count": 51,
   "metadata": {},
   "outputs": [],
   "source": [
    "#Gaussian\n",
    "from scipy.stats import norm\n",
    "\n",
    "def gaussian(x):\n",
    "    mean = np.mean(x)\n",
    "    std = np.std(x)\n",
    "    return 1 / (std * np.sqrt(2 * np.pi)) * np.exp(-np.power(x - mean,2)/(2 * std**2))"
   ]
  },
  {
   "cell_type": "code",
   "execution_count": 52,
   "metadata": {},
   "outputs": [],
   "source": [
    "Prob_1_age = gaussian(a['AGE']).to_numpy()\n",
    "Prob_0_age = gaussian(not_a['AGE']).to_numpy()\n",
    "\n",
    "Prob_1_sbp = gaussian(a['SBP']).to_numpy()\n",
    "Prob_0_sbp = gaussian(not_a['SBP']).to_numpy()\n",
    "\n",
    "Prob_1_hr = gaussian(a['HR']).to_numpy()\n",
    "Prob_0_hr = gaussian(not_a['HR']).to_numpy()\n",
    "\n",
    "Prob_1_crt = gaussian(a['CRT']).to_numpy()\n",
    "Prob_0_crt = gaussian(not_a['CRT']).to_numpy()"
   ]
  },
  {
   "cell_type": "code",
   "execution_count": null,
   "metadata": {},
   "outputs": [],
   "source": []
  }
 ],
 "metadata": {
  "kernelspec": {
   "display_name": "base",
   "language": "python",
   "name": "python3"
  },
  "language_info": {
   "codemirror_mode": {
    "name": "ipython",
    "version": 3
   },
   "file_extension": ".py",
   "mimetype": "text/x-python",
   "name": "python",
   "nbconvert_exporter": "python",
   "pygments_lexer": "ipython3",
   "version": "3.9.12"
  },
  "orig_nbformat": 4
 },
 "nbformat": 4,
 "nbformat_minor": 2
}
