{
 "cells": [
  {
   "cell_type": "code",
   "execution_count": 241,
   "metadata": {},
   "outputs": [],
   "source": [
    "import pandas as pd\n",
    "import numpy as np\n",
    "import matplotlib.pyplot as plt\n",
    "import seaborn as sns"
   ]
  },
  {
   "cell_type": "code",
   "execution_count": 242,
   "metadata": {},
   "outputs": [
    {
     "data": {
      "text/html": [
       "<div>\n",
       "<style scoped>\n",
       "    .dataframe tbody tr th:only-of-type {\n",
       "        vertical-align: middle;\n",
       "    }\n",
       "\n",
       "    .dataframe tbody tr th {\n",
       "        vertical-align: top;\n",
       "    }\n",
       "\n",
       "    .dataframe thead th {\n",
       "        text-align: right;\n",
       "    }\n",
       "</style>\n",
       "<table border=\"1\" class=\"dataframe\">\n",
       "  <thead>\n",
       "    <tr style=\"text-align: right;\">\n",
       "      <th></th>\n",
       "      <th>GENDER</th>\n",
       "      <th>AGE</th>\n",
       "      <th>RF</th>\n",
       "      <th>SBP</th>\n",
       "      <th>HR1</th>\n",
       "      <th>ST</th>\n",
       "      <th>HR2</th>\n",
       "      <th>CRT</th>\n",
       "      <th>KIL</th>\n",
       "      <th>EVENT</th>\n",
       "      <th>HR</th>\n",
       "      <th>GUIDELINES</th>\n",
       "    </tr>\n",
       "  </thead>\n",
       "  <tbody>\n",
       "    <tr>\n",
       "      <th>0</th>\n",
       "      <td>1.0</td>\n",
       "      <td>33.0</td>\n",
       "      <td>0.0</td>\n",
       "      <td>132.0</td>\n",
       "      <td>91.579173</td>\n",
       "      <td>1.0</td>\n",
       "      <td>90.0</td>\n",
       "      <td>0.8</td>\n",
       "      <td>1.0</td>\n",
       "      <td>0.0</td>\n",
       "      <td>90.092893</td>\n",
       "      <td>0</td>\n",
       "    </tr>\n",
       "    <tr>\n",
       "      <th>1</th>\n",
       "      <td>1.0</td>\n",
       "      <td>69.0</td>\n",
       "      <td>0.0</td>\n",
       "      <td>147.0</td>\n",
       "      <td>52.785861</td>\n",
       "      <td>0.0</td>\n",
       "      <td>52.0</td>\n",
       "      <td>1.4</td>\n",
       "      <td>1.0</td>\n",
       "      <td>0.0</td>\n",
       "      <td>52.046227</td>\n",
       "      <td>0</td>\n",
       "    </tr>\n",
       "    <tr>\n",
       "      <th>2</th>\n",
       "      <td>1.0</td>\n",
       "      <td>63.0</td>\n",
       "      <td>0.0</td>\n",
       "      <td>142.0</td>\n",
       "      <td>40.692798</td>\n",
       "      <td>1.0</td>\n",
       "      <td>44.0</td>\n",
       "      <td>1.1</td>\n",
       "      <td>3.0</td>\n",
       "      <td>1.0</td>\n",
       "      <td>43.805459</td>\n",
       "      <td>1</td>\n",
       "    </tr>\n",
       "    <tr>\n",
       "      <th>3</th>\n",
       "      <td>0.0</td>\n",
       "      <td>79.0</td>\n",
       "      <td>0.0</td>\n",
       "      <td>147.0</td>\n",
       "      <td>106.420820</td>\n",
       "      <td>1.0</td>\n",
       "      <td>110.0</td>\n",
       "      <td>0.9</td>\n",
       "      <td>1.0</td>\n",
       "      <td>1.0</td>\n",
       "      <td>109.789460</td>\n",
       "      <td>0</td>\n",
       "    </tr>\n",
       "    <tr>\n",
       "      <th>4</th>\n",
       "      <td>0.0</td>\n",
       "      <td>61.0</td>\n",
       "      <td>0.0</td>\n",
       "      <td>107.0</td>\n",
       "      <td>82.148302</td>\n",
       "      <td>0.0</td>\n",
       "      <td>80.0</td>\n",
       "      <td>1.1</td>\n",
       "      <td>1.0</td>\n",
       "      <td>0.0</td>\n",
       "      <td>80.126371</td>\n",
       "      <td>0</td>\n",
       "    </tr>\n",
       "    <tr>\n",
       "      <th>...</th>\n",
       "      <td>...</td>\n",
       "      <td>...</td>\n",
       "      <td>...</td>\n",
       "      <td>...</td>\n",
       "      <td>...</td>\n",
       "      <td>...</td>\n",
       "      <td>...</td>\n",
       "      <td>...</td>\n",
       "      <td>...</td>\n",
       "      <td>...</td>\n",
       "      <td>...</td>\n",
       "      <td>...</td>\n",
       "    </tr>\n",
       "    <tr>\n",
       "      <th>452</th>\n",
       "      <td>1.0</td>\n",
       "      <td>69.0</td>\n",
       "      <td>0.0</td>\n",
       "      <td>95.0</td>\n",
       "      <td>99.801711</td>\n",
       "      <td>0.0</td>\n",
       "      <td>103.0</td>\n",
       "      <td>1.6</td>\n",
       "      <td>3.0</td>\n",
       "      <td>1.0</td>\n",
       "      <td>102.811865</td>\n",
       "      <td>1</td>\n",
       "    </tr>\n",
       "    <tr>\n",
       "      <th>453</th>\n",
       "      <td>1.0</td>\n",
       "      <td>51.0</td>\n",
       "      <td>1.0</td>\n",
       "      <td>140.0</td>\n",
       "      <td>87.339759</td>\n",
       "      <td>1.0</td>\n",
       "      <td>90.0</td>\n",
       "      <td>1.0</td>\n",
       "      <td>3.0</td>\n",
       "      <td>1.0</td>\n",
       "      <td>89.843515</td>\n",
       "      <td>1</td>\n",
       "    </tr>\n",
       "    <tr>\n",
       "      <th>454</th>\n",
       "      <td>0.0</td>\n",
       "      <td>57.0</td>\n",
       "      <td>0.0</td>\n",
       "      <td>120.0</td>\n",
       "      <td>113.138910</td>\n",
       "      <td>0.0</td>\n",
       "      <td>117.0</td>\n",
       "      <td>1.0</td>\n",
       "      <td>3.0</td>\n",
       "      <td>1.0</td>\n",
       "      <td>116.772877</td>\n",
       "      <td>1</td>\n",
       "    </tr>\n",
       "    <tr>\n",
       "      <th>455</th>\n",
       "      <td>1.0</td>\n",
       "      <td>87.0</td>\n",
       "      <td>0.0</td>\n",
       "      <td>149.0</td>\n",
       "      <td>50.035793</td>\n",
       "      <td>1.0</td>\n",
       "      <td>53.0</td>\n",
       "      <td>1.4</td>\n",
       "      <td>1.0</td>\n",
       "      <td>1.0</td>\n",
       "      <td>52.825635</td>\n",
       "      <td>1</td>\n",
       "    </tr>\n",
       "    <tr>\n",
       "      <th>456</th>\n",
       "      <td>1.0</td>\n",
       "      <td>72.0</td>\n",
       "      <td>0.0</td>\n",
       "      <td>173.0</td>\n",
       "      <td>68.337300</td>\n",
       "      <td>1.0</td>\n",
       "      <td>65.0</td>\n",
       "      <td>1.2</td>\n",
       "      <td>1.0</td>\n",
       "      <td>0.0</td>\n",
       "      <td>65.196312</td>\n",
       "      <td>1</td>\n",
       "    </tr>\n",
       "  </tbody>\n",
       "</table>\n",
       "<p>457 rows × 12 columns</p>\n",
       "</div>"
      ],
      "text/plain": [
       "     GENDER   AGE   RF    SBP         HR1   ST    HR2  CRT  KIL  EVENT  \\\n",
       "0       1.0  33.0  0.0  132.0   91.579173  1.0   90.0  0.8  1.0    0.0   \n",
       "1       1.0  69.0  0.0  147.0   52.785861  0.0   52.0  1.4  1.0    0.0   \n",
       "2       1.0  63.0  0.0  142.0   40.692798  1.0   44.0  1.1  3.0    1.0   \n",
       "3       0.0  79.0  0.0  147.0  106.420820  1.0  110.0  0.9  1.0    1.0   \n",
       "4       0.0  61.0  0.0  107.0   82.148302  0.0   80.0  1.1  1.0    0.0   \n",
       "..      ...   ...  ...    ...         ...  ...    ...  ...  ...    ...   \n",
       "452     1.0  69.0  0.0   95.0   99.801711  0.0  103.0  1.6  3.0    1.0   \n",
       "453     1.0  51.0  1.0  140.0   87.339759  1.0   90.0  1.0  3.0    1.0   \n",
       "454     0.0  57.0  0.0  120.0  113.138910  0.0  117.0  1.0  3.0    1.0   \n",
       "455     1.0  87.0  0.0  149.0   50.035793  1.0   53.0  1.4  1.0    1.0   \n",
       "456     1.0  72.0  0.0  173.0   68.337300  1.0   65.0  1.2  1.0    0.0   \n",
       "\n",
       "             HR  GUIDELINES  \n",
       "0     90.092893           0  \n",
       "1     52.046227           0  \n",
       "2     43.805459           1  \n",
       "3    109.789460           0  \n",
       "4     80.126371           0  \n",
       "..          ...         ...  \n",
       "452  102.811865           1  \n",
       "453   89.843515           1  \n",
       "454  116.772877           1  \n",
       "455   52.825635           1  \n",
       "456   65.196312           1  \n",
       "\n",
       "[457 rows x 12 columns]"
      ]
     },
     "execution_count": 242,
     "metadata": {},
     "output_type": "execute_result"
    }
   ],
   "source": [
    "data = np.loadtxt('DATA.txt')\n",
    "df = pd.DataFrame(data, columns=['GENDER', 'AGE', 'RF', 'SBP', 'HR1', 'ST', 'HR2', 'CRT', 'KIL', 'EVENT'])\n",
    "std_HRBP = 2 \n",
    "std_HRECG = 0.5\n",
    "\n",
    "df['HR'] = std_HRECG**2 / (std_HRBP**2 + std_HRECG**2) * df['HR1'] + std_HRBP**2 / (std_HRBP**2 + std_HRECG**2) * df['HR2']\n",
    "\n",
    "\n",
    "df['GUIDELINES'] = 0\n",
    "df.loc[(df['CRT'] >= 1.2) & (df['ST'] == 1),'GUIDELINES'] = 1\n",
    "df.loc[(df['KIL'] >= 2),'GUIDELINES'] = 1\n",
    "\n",
    "a = df[df['EVENT'] == 1]\n",
    "not_a = df[df['EVENT'] == 0]\n",
    "\n",
    "df\n"
   ]
  },
  {
   "attachments": {},
   "cell_type": "markdown",
   "metadata": {},
   "source": [
    "## Priori"
   ]
  },
  {
   "cell_type": "code",
   "execution_count": 243,
   "metadata": {},
   "outputs": [
    {
     "name": "stderr",
     "output_type": "stream",
     "text": [
      "C:\\Users\\pcost\\AppData\\Local\\Temp\\ipykernel_5364\\3223828830.py:4: SettingWithCopyWarning: \n",
      "A value is trying to be set on a copy of a slice from a DataFrame.\n",
      "Try using .loc[row_indexer,col_indexer] = value instead\n",
      "\n",
      "See the caveats in the documentation: https://pandas.pydata.org/pandas-docs/stable/user_guide/indexing.html#returning-a-view-versus-a-copy\n",
      "  a['P(EVENT=1)'] = Prob_1\n",
      "C:\\Users\\pcost\\AppData\\Local\\Temp\\ipykernel_5364\\3223828830.py:5: SettingWithCopyWarning: \n",
      "A value is trying to be set on a copy of a slice from a DataFrame.\n",
      "Try using .loc[row_indexer,col_indexer] = value instead\n",
      "\n",
      "See the caveats in the documentation: https://pandas.pydata.org/pandas-docs/stable/user_guide/indexing.html#returning-a-view-versus-a-copy\n",
      "  not_a['P(EVENT=0)'] = Prob_0\n"
     ]
    }
   ],
   "source": [
    "Prob_1 = len(a) / len(df)\n",
    "Prob_0 = len(not_a) / len(df)\n",
    "\n",
    "a['P(EVENT=1)'] = Prob_1\n",
    "not_a['P(EVENT=0)'] = Prob_0"
   ]
  },
  {
   "cell_type": "code",
   "execution_count": 244,
   "metadata": {},
   "outputs": [
    {
     "name": "stdout",
     "output_type": "stream",
     "text": [
      "P(EVENT=1)=0.3916849015317287\n",
      "P(EVENT=0)=0.6083150984682714\n"
     ]
    }
   ],
   "source": [
    "print(f'P(EVENT=1)={Prob_1}')\n",
    "print(f'P(EVENT=0)={Prob_0}')"
   ]
  },
  {
   "attachments": {},
   "cell_type": "markdown",
   "metadata": {},
   "source": [
    "## Discrete"
   ]
  },
  {
   "cell_type": "code",
   "execution_count": 245,
   "metadata": {},
   "outputs": [],
   "source": [
    "Prob_gender_1 = a['GENDER'].value_counts()/len(a)\n",
    "Prob_gender_0 = not_a['GENDER'].value_counts()/len(not_a)\n",
    "\n",
    "Prob_risk_1 = a['RF'].value_counts()/len(a)\n",
    "Prob_risk_0 = not_a['RF'].value_counts()/len(not_a)\n",
    "\n",
    "Prob_st_1 = a['ST'].value_counts()/len(a)\n",
    "Prob_st_0 = not_a['ST'].value_counts()/len(not_a)\n",
    "\n",
    "Prob_kl_1 = a['KIL'].value_counts()/len(a)\n",
    "Prob_kl_0 = not_a['KIL'].value_counts()/len(not_a)\n",
    "\n",
    "Prob_guid_1 = a['GUIDELINES'].value_counts()/len(a)\n",
    "Prob_guid_0 = not_a['GUIDELINES'].value_counts()/len(not_a)"
   ]
  },
  {
   "attachments": {},
   "cell_type": "markdown",
   "metadata": {},
   "source": [
    "## Likelihood"
   ]
  },
  {
   "cell_type": "code",
   "execution_count": 246,
   "metadata": {},
   "outputs": [
    {
     "name": "stdout",
     "output_type": "stream",
     "text": [
      "P(GENDER=1|EVENT=1)=0.7877094972067039\n",
      "P(GENDER=0|EVENT=1)=0.2122905027932961\n",
      "\n",
      "P(GENDER=1|EVENT=0)=0.7877697841726619\n",
      "P(GENDER=0|EVENT=0)=0.21223021582733814\n"
     ]
    }
   ],
   "source": [
    "print(f'P(GENDER=1|EVENT=1)={Prob_gender_1[1]}')\n",
    "print(f'P(GENDER=0|EVENT=1)={Prob_gender_1[0]}')\n",
    "print()\n",
    "print(f'P(GENDER=1|EVENT=0)={Prob_gender_0[1]}')\n",
    "print(f'P(GENDER=0|EVENT=0)={Prob_gender_0[0]}')"
   ]
  },
  {
   "cell_type": "code",
   "execution_count": 247,
   "metadata": {},
   "outputs": [
    {
     "name": "stdout",
     "output_type": "stream",
     "text": [
      "P(RF=1|EVENT=1)=0.15083798882681565\n",
      "P(RF=0|EVENT=1)=0.8491620111731844\n",
      "\n",
      "P(RF=1|EVENT=0)=0.15467625899280577\n",
      "P(RF=0|EVENT=0)=0.8453237410071942\n"
     ]
    }
   ],
   "source": [
    "print(f'P(RF=1|EVENT=1)={Prob_risk_1[1]}')\n",
    "print(f'P(RF=0|EVENT=1)={Prob_risk_1[0]}')\n",
    "print()\n",
    "print(f'P(RF=1|EVENT=0)={Prob_risk_0[1]}')\n",
    "print(f'P(RF=0|EVENT=0)={Prob_risk_0[0]}')"
   ]
  },
  {
   "cell_type": "code",
   "execution_count": 248,
   "metadata": {},
   "outputs": [
    {
     "name": "stdout",
     "output_type": "stream",
     "text": [
      "P(ST=1|EVENT=1)=0.8324022346368715\n",
      "P(ST=0|EVENT=1)=0.16759776536312848\n",
      "\n",
      "P(ST=1|EVENT=0)=0.3381294964028777\n",
      "P(ST=0|EVENT=0)=0.6618705035971223\n"
     ]
    }
   ],
   "source": [
    "print(f'P(ST=1|EVENT=1)={Prob_st_1[1]}')\n",
    "print(f'P(ST=0|EVENT=1)={Prob_st_1[0]}')\n",
    "print()\n",
    "print(f'P(ST=1|EVENT=0)={Prob_st_0[1]}')\n",
    "print(f'P(ST=0|EVENT=0)={Prob_st_0[0]}')"
   ]
  },
  {
   "cell_type": "code",
   "execution_count": 249,
   "metadata": {},
   "outputs": [
    {
     "name": "stdout",
     "output_type": "stream",
     "text": [
      "P(KIL=1|EVENT=1)=0.6815642458100558\n",
      "P(KIL=2|EVENT=1)=0.1452513966480447\n",
      "P(KIL=3|EVENT=1)=0.17318435754189945\n",
      "\n",
      "P(KIL=1|EVENT=0)=0.9748201438848921\n",
      "P(KIL=2|EVENT=0)=0.017985611510791366\n",
      "P(KIL=3|EVENT=0)=0.007194244604316547\n"
     ]
    }
   ],
   "source": [
    "print(f'P(KIL=1|EVENT=1)={Prob_kl_1[1]}')\n",
    "print(f'P(KIL=2|EVENT=1)={Prob_kl_1[2]}')\n",
    "print(f'P(KIL=3|EVENT=1)={Prob_kl_1[3]}')\n",
    "print()\n",
    "print(f'P(KIL=1|EVENT=0)={Prob_kl_0[1]}')\n",
    "print(f'P(KIL=2|EVENT=0)={Prob_kl_0[2]}')\n",
    "print(f'P(KIL=3|EVENT=0)={Prob_kl_0[3]}')"
   ]
  },
  {
   "cell_type": "code",
   "execution_count": 250,
   "metadata": {},
   "outputs": [
    {
     "name": "stdout",
     "output_type": "stream",
     "text": [
      "P(GUID=1|EVENT=1)=0.6368715083798883\n",
      "P(GUID=0|EVENT=1)=0.36312849162011174\n",
      "\n",
      "P(GUID=1|EVENT=0)=0.13309352517985612\n",
      "P(GUID=0|EVENT=0)=0.8669064748201439\n"
     ]
    }
   ],
   "source": [
    "print(f'P(GUID=1|EVENT=1)={Prob_guid_1[1]}')\n",
    "print(f'P(GUID=0|EVENT=1)={Prob_guid_1[0]}')\n",
    "print()\n",
    "print(f'P(GUID=1|EVENT=0)={Prob_guid_0[1]}')\n",
    "print(f'P(GUID=0|EVENT=0)={Prob_guid_0[0]}')"
   ]
  },
  {
   "cell_type": "code",
   "execution_count": 251,
   "metadata": {},
   "outputs": [],
   "source": [
    "Prob1_discrete = Prob_gender_1[df['GENDER']].to_numpy()*Prob_risk_1[df['RF']].to_numpy()*Prob_st_1[df['ST']].to_numpy()*Prob_kl_1[df['KIL']].to_numpy()*Prob_guid_1[df['GUIDELINES']].to_numpy()\n",
    "df['Prob_Discrete (Event=1)'] = Prob1_discrete*Prob_1\n",
    "\n",
    "Prob0_discrete = Prob_gender_0[df['GENDER']].to_numpy()*Prob_risk_0[df['RF']].to_numpy()*Prob_st_0[df['ST']].to_numpy()*Prob_kl_0[df['KIL']].to_numpy()*Prob_guid_0[df['GUIDELINES']].to_numpy()\n",
    "df['Prob_Discrete (Event=0)'] = Prob0_discrete*Prob_0"
   ]
  },
  {
   "attachments": {},
   "cell_type": "markdown",
   "metadata": {},
   "source": [
    "## Posterior"
   ]
  },
  {
   "cell_type": "code",
   "execution_count": 252,
   "metadata": {},
   "outputs": [],
   "source": [
    "Prob_0_gender = Prob_gender_0*Prob_0\n",
    "Prob_1_gender = Prob_gender_1*Prob_1\n",
    "\n",
    "Prob_0_risk = Prob_risk_0*Prob_0\n",
    "Prob_1_risk = Prob_risk_1*Prob_1\n",
    "\n",
    "Prob_0_st = Prob_st_0*Prob_0\n",
    "Prob_1_st = Prob_st_1*Prob_1\n",
    "\n",
    "Prob_0_kl = Prob_kl_0*Prob_0\n",
    "Prob_1_kl = Prob_kl_1*Prob_1\n",
    "\n",
    "Prob_0_guid = Prob_guid_0*Prob_0\n",
    "Prob_1_guid = Prob_guid_1*Prob_1"
   ]
  },
  {
   "cell_type": "code",
   "execution_count": 253,
   "metadata": {},
   "outputs": [
    {
     "name": "stdout",
     "output_type": "stream",
     "text": [
      "P(EVENT=1|GENDER=1)=0.3085339168490153\n",
      "P(EVENT=1|GENDER=0)=0.08315098468271336\n",
      "\n",
      "P(EVENT=0|GENDER=1)=0.4792122538293217\n",
      "P(EVENT=0|GENDER=0)=0.1291028446389497\n"
     ]
    }
   ],
   "source": [
    "print(f'P(EVENT=1|GENDER=1)={Prob_1_gender[1]}')\n",
    "print(f'P(EVENT=1|GENDER=0)={Prob_1_gender[0]}')\n",
    "print()\n",
    "print(f'P(EVENT=0|GENDER=1)={Prob_0_gender[1]}')\n",
    "print(f'P(EVENT=0|GENDER=0)={Prob_0_gender[0]}')"
   ]
  },
  {
   "cell_type": "code",
   "execution_count": 254,
   "metadata": {},
   "outputs": [
    {
     "name": "stdout",
     "output_type": "stream",
     "text": [
      "P(EVENT=1|RF=1)=0.059080962800875284\n",
      "P(EVENT=1|RF=0)=0.3326039387308534\n",
      "\n",
      "P(EVENT=0|RF=1)=0.09409190371991248\n",
      "P(EVENT=0|RF=0)=0.5142231947483589\n"
     ]
    }
   ],
   "source": [
    "print(f'P(EVENT=1|RF=1)={Prob_1_risk[1]}')\n",
    "print(f'P(EVENT=1|RF=0)={Prob_1_risk[0]}')\n",
    "print()\n",
    "print(f'P(EVENT=0|RF=1)={Prob_0_risk[1]}')\n",
    "print(f'P(EVENT=0|RF=0)={Prob_0_risk[0]}')"
   ]
  },
  {
   "cell_type": "code",
   "execution_count": 255,
   "metadata": {},
   "outputs": [
    {
     "name": "stdout",
     "output_type": "stream",
     "text": [
      "P(EVENT=1|ST=1)=0.32603938730853393\n",
      "P(EVENT=1|ST=0)=0.06564551422319474\n",
      "\n",
      "P(EVENT=0|ST=1)=0.20568927789934355\n",
      "P(EVENT=0|ST=0)=0.4026258205689278\n"
     ]
    }
   ],
   "source": [
    "print(f'P(EVENT=1|ST=1)={Prob_1_st[1]}')\n",
    "print(f'P(EVENT=1|ST=0)={Prob_1_st[0]}')\n",
    "print()\n",
    "print(f'P(EVENT=0|ST=1)={Prob_0_st[1]}')\n",
    "print(f'P(EVENT=0|ST=0)={Prob_0_st[0]}')"
   ]
  },
  {
   "cell_type": "code",
   "execution_count": 256,
   "metadata": {},
   "outputs": [
    {
     "name": "stdout",
     "output_type": "stream",
     "text": [
      "P(EVENT=1|KIL=1)=0.26695842450765866\n",
      "P(EVENT=1|KIL=2)=0.05689277899343546\n",
      "P(EVENT=1|KIL=3)=0.06783369803063458\n",
      "\n",
      "P(EVENT=0|KIL=1)=0.5929978118161926\n",
      "P(EVENT=0|KIL=2)=0.010940919037199124\n",
      "P(EVENT=1|KIL=3)=0.06783369803063458\n"
     ]
    }
   ],
   "source": [
    "print(f'P(EVENT=1|KIL=1)={Prob_1_kl[1]}')\n",
    "print(f'P(EVENT=1|KIL=2)={Prob_1_kl[2]}')\n",
    "print(f'P(EVENT=1|KIL=3)={Prob_1_kl[3]}')\n",
    "print()\n",
    "print(f'P(EVENT=0|KIL=1)={Prob_0_kl[1]}')\n",
    "print(f'P(EVENT=0|KIL=2)={Prob_0_kl[2]}')\n",
    "print(f'P(EVENT=1|KIL=3)={Prob_1_kl[3]}')"
   ]
  },
  {
   "cell_type": "code",
   "execution_count": 257,
   "metadata": {},
   "outputs": [
    {
     "name": "stdout",
     "output_type": "stream",
     "text": [
      "P(EVENT=1|GUID=1)=0.24945295404814005\n",
      "P(EVENT=1|GUID=0)=0.14223194748358864\n",
      "\n",
      "P(EVENT=0|GUID=1)=0.08096280087527354\n",
      "P(EVENT=0|GUID=0)=0.5273522975929978\n"
     ]
    }
   ],
   "source": [
    "print(f'P(EVENT=1|GUID=1)={Prob_1_guid[1]}')\n",
    "print(f'P(EVENT=1|GUID=0)={Prob_1_guid[0]}')\n",
    "print()\n",
    "print(f'P(EVENT=0|GUID=1)={Prob_0_guid[1]}')\n",
    "print(f'P(EVENT=0|GUID=0)={Prob_0_guid[0]}')"
   ]
  },
  {
   "attachments": {},
   "cell_type": "markdown",
   "metadata": {},
   "source": [
    "## Continuous"
   ]
  },
  {
   "cell_type": "code",
   "execution_count": 258,
   "metadata": {},
   "outputs": [],
   "source": [
    "#Gaussian\n",
    "def gaussian(x, mean, std):\n",
    "    return 1 / (std * np.sqrt(2 * np.pi)) * np.exp(-np.power(x - mean,2)/(2 * std**2))"
   ]
  },
  {
   "attachments": {},
   "cell_type": "markdown",
   "metadata": {},
   "source": [
    "## Likelihood"
   ]
  },
  {
   "cell_type": "code",
   "execution_count": 259,
   "metadata": {},
   "outputs": [],
   "source": [
    "Prob_age_1 = gaussian(df['AGE'], a['AGE'].mean(), a['AGE'].std())\n",
    "Prob_age_0 = gaussian(df['AGE'], not_a['AGE'].mean(), not_a['AGE'].std())\n",
    "\n",
    "Prob_sbp_1 = gaussian(df['SBP'], a['SBP'].mean(), a['SBP'].std())\n",
    "Prob_sbp_0 = gaussian(df['SBP'], not_a['SBP'].mean(), not_a['SBP'].std())\n",
    "\n",
    "Prob_hr_1= gaussian(df['HR'], a['HR'].mean(), a['HR'].std())\n",
    "Prob_hr_0= gaussian(df['HR'], not_a['HR'].mean(), not_a['HR'].std())\n",
    "\n",
    "Prob_crt_1 = gaussian(df['CRT'], a['CRT'].mean(), a['CRT'].std())\n",
    "Prob_crt_0 = gaussian(df['CRT'], not_a['CRT'].mean(), not_a['CRT'].std())"
   ]
  },
  {
   "cell_type": "code",
   "execution_count": 261,
   "metadata": {},
   "outputs": [],
   "source": [
    "Prob1_continuous = Prob_age_1.to_numpy()*Prob_sbp_1.to_numpy()*Prob_hr_1.to_numpy()*Prob_crt_1.to_numpy()\n",
    "df['Prob_Continuous (Event=1)'] = Prob1_continuous*Prob_1\n",
    "\n",
    "Prob0_continuous = Prob_age_0.to_numpy()*Prob_sbp_0.to_numpy()*Prob_hr_0.to_numpy()*Prob_crt_0.to_numpy()\n",
    "df['Prob_Continuous (Event=0)'] = Prob0_continuous*Prob_0"
   ]
  },
  {
   "cell_type": "code",
   "execution_count": 262,
   "metadata": {},
   "outputs": [],
   "source": [
    "Prob_age_1 = gaussian(a['AGE'].unique(), a['AGE'].mean(), a['AGE'].std())\n",
    "Prob_age_0 = gaussian(not_a['AGE'].unique(), not_a['AGE'].mean(), not_a['AGE'].std())\n",
    "\n",
    "Prob_sbp_1 = gaussian(a['SBP'].unique(), a['SBP'].mean(), a['SBP'].std())\n",
    "Prob_sbp_0 = gaussian(not_a['SBP'].unique(), not_a['SBP'].mean(), not_a['SBP'].std())\n",
    "\n",
    "Prob_hr_1= gaussian(a['HR'].unique(), a['HR'].mean(), a['HR'].std())\n",
    "Prob_hr_0= gaussian(not_a['HR'].unique(), not_a['HR'].mean(), not_a['HR'].std())\n",
    "\n",
    "Prob_crt_1 = gaussian(a['CRT'].unique(), a['CRT'].mean(), a['CRT'].std())\n",
    "Prob_crt_0 = gaussian(not_a['CRT'].unique(), not_a['CRT'].mean(), not_a['CRT'].std())"
   ]
  },
  {
   "attachments": {},
   "cell_type": "markdown",
   "metadata": {},
   "source": [
    "## Posterior"
   ]
  },
  {
   "cell_type": "code",
   "execution_count": 263,
   "metadata": {},
   "outputs": [],
   "source": [
    "Prob_1_age = Prob_age_1*Prob_1\n",
    "Prob_0_age = Prob_age_0*Prob_0\n",
    "\n",
    "Prob_1_sbp = Prob_sbp_1*Prob_1\n",
    "Prob_0_sbp = Prob_sbp_0*Prob_0\n",
    "\n",
    "Prob_1_hr = Prob_hr_1*Prob_1\n",
    "Prob_0_hr = Prob_hr_0*Prob_0\n",
    "\n",
    "Prob_1_crt = Prob_crt_1*Prob_1\n",
    "Prob_0_crt = Prob_crt_0*Prob_0"
   ]
  },
  {
   "cell_type": "code",
   "execution_count": 264,
   "metadata": {},
   "outputs": [],
   "source": [
    "def plot(x1, x2, y1, y0, xlabel, ylabel):\n",
    "    plt.figure(figsize=(5,10))\n",
    "    plt.subplot(2,1,1)\n",
    "    plt.xlabel(xlabel)\n",
    "    plt.ylabel('Probabilidade')\n",
    "    plt.title(f'Distribuição Posterior de {xlabel} (Evento=1))')\n",
    "    plt.bar(x1, y1, label='Evento=1')\n",
    "    plt.subplot(2,1,2)\n",
    "    plt.xlabel(xlabel)\n",
    "    plt.ylabel('Probabilidade')\n",
    "    plt.title(f'Distribuição Posterior de {xlabel} (Evento=0))')\n",
    "    plt.bar(x2, y0, label='Evento=0')\n",
    "    plt.show()"
   ]
  },
  {
   "cell_type": "code",
   "execution_count": 265,
   "metadata": {},
   "outputs": [
    {
     "data": {
      "image/png": "[encoded data removed]",
      "text/plain": [
       "<Figure size 360x720 with 2 Axes>"
      ]
     },
     "metadata": {
      "needs_background": "light"
     },
     "output_type": "display_data"
    },
    {
     "data": {
      "image/png": "[encoded data removed]",
      "text/plain": [
       "<Figure size 360x720 with 2 Axes>"
      ]
     },
     "metadata": {
      "needs_background": "light"
     },
     "output_type": "display_data"
    },
    {
     "data": {
      "image/png": "[encoded data removed]",
      "text/plain": [
       "<Figure size 360x720 with 2 Axes>"
      ]
     },
     "metadata": {
      "needs_background": "light"
     },
     "output_type": "display_data"
    },
    {
     "data": {
      "image/png": "[encoded data removed]",
      "text/plain": [
       "<Figure size 360x720 with 2 Axes>"
      ]
     },
     "metadata": {
      "needs_background": "light"
     },
     "output_type": "display_data"
    }
   ],
   "source": [
    "plot(a['AGE'].unique(), not_a['AGE'].unique(), Prob_1_age, Prob_0_age, 'Age', 'Probabilidade')\n",
    "plot(a['SBP'].unique(), not_a['SBP'].unique(), Prob_1_sbp, Prob_0_sbp, 'SBP', 'Probabilidade')\n",
    "plot(a['HR'].unique(), not_a['HR'].unique(), Prob_1_hr, Prob_0_hr, 'HR', 'Probabilidade')\n",
    "plot(a['CRT'].unique(), not_a['CRT'].unique(), Prob_1_crt, Prob_0_crt, 'CRT', 'Probabilidade')"
   ]
  },
  {
   "cell_type": "code",
   "execution_count": 266,
   "metadata": {},
   "outputs": [],
   "source": [
    "Prob_1_X = Prob1_continuous*Prob1_discrete*Prob_1\n",
    "Prob_0_X = Prob0_continuous*Prob0_discrete*Prob_0\n",
    "\n",
    "df['Probabilidade (Evento=1)'] = Prob_1_X\n",
    "df['Probabilidade (Evento=0)'] = Prob_0_X"
   ]
  },
  {
   "cell_type": "code",
   "execution_count": 269,
   "metadata": {},
   "outputs": [
    {
     "data": {
      "text/html": [
       "<div>\n",
       "<style scoped>\n",
       "    .dataframe tbody tr th:only-of-type {\n",
       "        vertical-align: middle;\n",
       "    }\n",
       "\n",
       "    .dataframe tbody tr th {\n",
       "        vertical-align: top;\n",
       "    }\n",
       "\n",
       "    .dataframe thead th {\n",
       "        text-align: right;\n",
       "    }\n",
       "</style>\n",
       "<table border=\"1\" class=\"dataframe\">\n",
       "  <thead>\n",
       "    <tr style=\"text-align: right;\">\n",
       "      <th></th>\n",
       "      <th>GENDER</th>\n",
       "      <th>AGE</th>\n",
       "      <th>RF</th>\n",
       "      <th>SBP</th>\n",
       "      <th>HR1</th>\n",
       "      <th>ST</th>\n",
       "      <th>HR2</th>\n",
       "      <th>CRT</th>\n",
       "      <th>KIL</th>\n",
       "      <th>EVENT</th>\n",
       "      <th>HR</th>\n",
       "      <th>GUIDELINES</th>\n",
       "      <th>Prob_Discrete (Event=1)</th>\n",
       "      <th>Prob_Discrete (Event=0)</th>\n",
       "      <th>Prob_Continuous (Event=1)</th>\n",
       "      <th>Prob_Continuous (Event=0)</th>\n",
       "      <th>Probabilidade (Evento=1)</th>\n",
       "      <th>Probabilidade (Evento=0)</th>\n",
       "    </tr>\n",
       "  </thead>\n",
       "  <tbody>\n",
       "    <tr>\n",
       "      <th>0</th>\n",
       "      <td>1.0</td>\n",
       "      <td>33.0</td>\n",
       "      <td>0.0</td>\n",
       "      <td>132.0</td>\n",
       "      <td>91.579173</td>\n",
       "      <td>1.0</td>\n",
       "      <td>90.0</td>\n",
       "      <td>0.8</td>\n",
       "      <td>1.0</td>\n",
       "      <td>0.0</td>\n",
       "      <td>90.092893</td>\n",
       "      <td>0</td>\n",
       "      <td>0.053975</td>\n",
       "      <td>0.115753</td>\n",
       "      <td>6.464910e-11</td>\n",
       "      <td>7.024320e-08</td>\n",
       "      <td>8.908806e-12</td>\n",
       "      <td>1.336615e-08</td>\n",
       "    </tr>\n",
       "    <tr>\n",
       "      <th>1</th>\n",
       "      <td>1.0</td>\n",
       "      <td>69.0</td>\n",
       "      <td>0.0</td>\n",
       "      <td>147.0</td>\n",
       "      <td>52.785861</td>\n",
       "      <td>0.0</td>\n",
       "      <td>52.0</td>\n",
       "      <td>1.4</td>\n",
       "      <td>1.0</td>\n",
       "      <td>0.0</td>\n",
       "      <td>52.046227</td>\n",
       "      <td>0</td>\n",
       "      <td>0.010867</td>\n",
       "      <td>0.226580</td>\n",
       "      <td>4.051132e-07</td>\n",
       "      <td>8.501240e-07</td>\n",
       "      <td>1.124005e-08</td>\n",
       "      <td>3.166463e-07</td>\n",
       "    </tr>\n",
       "    <tr>\n",
       "      <th>2</th>\n",
       "      <td>1.0</td>\n",
       "      <td>63.0</td>\n",
       "      <td>0.0</td>\n",
       "      <td>142.0</td>\n",
       "      <td>40.692798</td>\n",
       "      <td>1.0</td>\n",
       "      <td>44.0</td>\n",
       "      <td>1.1</td>\n",
       "      <td>3.0</td>\n",
       "      <td>1.0</td>\n",
       "      <td>43.805459</td>\n",
       "      <td>1</td>\n",
       "      <td>0.024054</td>\n",
       "      <td>0.000131</td>\n",
       "      <td>1.370811e-07</td>\n",
       "      <td>5.032537e-07</td>\n",
       "      <td>8.418372e-09</td>\n",
       "      <td>1.085012e-10</td>\n",
       "    </tr>\n",
       "    <tr>\n",
       "      <th>3</th>\n",
       "      <td>0.0</td>\n",
       "      <td>79.0</td>\n",
       "      <td>0.0</td>\n",
       "      <td>147.0</td>\n",
       "      <td>106.420820</td>\n",
       "      <td>1.0</td>\n",
       "      <td>110.0</td>\n",
       "      <td>0.9</td>\n",
       "      <td>1.0</td>\n",
       "      <td>1.0</td>\n",
       "      <td>109.789460</td>\n",
       "      <td>0</td>\n",
       "      <td>0.014546</td>\n",
       "      <td>0.031184</td>\n",
       "      <td>2.905065e-07</td>\n",
       "      <td>1.677164e-08</td>\n",
       "      <td>1.078890e-08</td>\n",
       "      <td>8.597765e-10</td>\n",
       "    </tr>\n",
       "    <tr>\n",
       "      <th>4</th>\n",
       "      <td>0.0</td>\n",
       "      <td>61.0</td>\n",
       "      <td>0.0</td>\n",
       "      <td>107.0</td>\n",
       "      <td>82.148302</td>\n",
       "      <td>0.0</td>\n",
       "      <td>80.0</td>\n",
       "      <td>1.1</td>\n",
       "      <td>1.0</td>\n",
       "      <td>0.0</td>\n",
       "      <td>80.126371</td>\n",
       "      <td>0</td>\n",
       "      <td>0.002929</td>\n",
       "      <td>0.061042</td>\n",
       "      <td>2.506861e-07</td>\n",
       "      <td>3.083867e-06</td>\n",
       "      <td>1.874505e-09</td>\n",
       "      <td>3.094537e-07</td>\n",
       "    </tr>\n",
       "    <tr>\n",
       "      <th>...</th>\n",
       "      <td>...</td>\n",
       "      <td>...</td>\n",
       "      <td>...</td>\n",
       "      <td>...</td>\n",
       "      <td>...</td>\n",
       "      <td>...</td>\n",
       "      <td>...</td>\n",
       "      <td>...</td>\n",
       "      <td>...</td>\n",
       "      <td>...</td>\n",
       "      <td>...</td>\n",
       "      <td>...</td>\n",
       "      <td>...</td>\n",
       "      <td>...</td>\n",
       "      <td>...</td>\n",
       "      <td>...</td>\n",
       "      <td>...</td>\n",
       "      <td>...</td>\n",
       "    </tr>\n",
       "    <tr>\n",
       "      <th>452</th>\n",
       "      <td>1.0</td>\n",
       "      <td>69.0</td>\n",
       "      <td>0.0</td>\n",
       "      <td>95.0</td>\n",
       "      <td>99.801711</td>\n",
       "      <td>0.0</td>\n",
       "      <td>103.0</td>\n",
       "      <td>1.6</td>\n",
       "      <td>3.0</td>\n",
       "      <td>1.0</td>\n",
       "      <td>102.811865</td>\n",
       "      <td>1</td>\n",
       "      <td>0.004843</td>\n",
       "      <td>0.000257</td>\n",
       "      <td>1.597829e-07</td>\n",
       "      <td>1.239555e-07</td>\n",
       "      <td>1.975676e-09</td>\n",
       "      <td>5.231226e-11</td>\n",
       "    </tr>\n",
       "    <tr>\n",
       "      <th>453</th>\n",
       "      <td>1.0</td>\n",
       "      <td>51.0</td>\n",
       "      <td>1.0</td>\n",
       "      <td>140.0</td>\n",
       "      <td>87.339759</td>\n",
       "      <td>1.0</td>\n",
       "      <td>90.0</td>\n",
       "      <td>1.0</td>\n",
       "      <td>3.0</td>\n",
       "      <td>1.0</td>\n",
       "      <td>89.843515</td>\n",
       "      <td>1</td>\n",
       "      <td>0.004273</td>\n",
       "      <td>0.000024</td>\n",
       "      <td>6.426158e-08</td>\n",
       "      <td>1.326721e-06</td>\n",
       "      <td>7.010063e-10</td>\n",
       "      <td>5.233928e-11</td>\n",
       "    </tr>\n",
       "    <tr>\n",
       "      <th>454</th>\n",
       "      <td>0.0</td>\n",
       "      <td>57.0</td>\n",
       "      <td>0.0</td>\n",
       "      <td>120.0</td>\n",
       "      <td>113.138910</td>\n",
       "      <td>0.0</td>\n",
       "      <td>117.0</td>\n",
       "      <td>1.0</td>\n",
       "      <td>3.0</td>\n",
       "      <td>1.0</td>\n",
       "      <td>116.772877</td>\n",
       "      <td>1</td>\n",
       "      <td>0.001305</td>\n",
       "      <td>0.000069</td>\n",
       "      <td>4.810928e-08</td>\n",
       "      <td>2.712854e-08</td>\n",
       "      <td>1.603167e-10</td>\n",
       "      <td>3.084408e-12</td>\n",
       "    </tr>\n",
       "    <tr>\n",
       "      <th>455</th>\n",
       "      <td>1.0</td>\n",
       "      <td>87.0</td>\n",
       "      <td>0.0</td>\n",
       "      <td>149.0</td>\n",
       "      <td>50.035793</td>\n",
       "      <td>1.0</td>\n",
       "      <td>53.0</td>\n",
       "      <td>1.4</td>\n",
       "      <td>1.0</td>\n",
       "      <td>1.0</td>\n",
       "      <td>52.825635</td>\n",
       "      <td>1</td>\n",
       "      <td>0.094664</td>\n",
       "      <td>0.017771</td>\n",
       "      <td>1.028959e-07</td>\n",
       "      <td>4.294798e-08</td>\n",
       "      <td>2.486834e-08</td>\n",
       "      <td>1.254670e-09</td>\n",
       "    </tr>\n",
       "    <tr>\n",
       "      <th>456</th>\n",
       "      <td>1.0</td>\n",
       "      <td>72.0</td>\n",
       "      <td>0.0</td>\n",
       "      <td>173.0</td>\n",
       "      <td>68.337300</td>\n",
       "      <td>1.0</td>\n",
       "      <td>65.0</td>\n",
       "      <td>1.2</td>\n",
       "      <td>1.0</td>\n",
       "      <td>0.0</td>\n",
       "      <td>65.196312</td>\n",
       "      <td>1</td>\n",
       "      <td>0.094664</td>\n",
       "      <td>0.017771</td>\n",
       "      <td>3.815032e-07</td>\n",
       "      <td>4.446717e-07</td>\n",
       "      <td>9.220335e-08</td>\n",
       "      <td>1.299051e-08</td>\n",
       "    </tr>\n",
       "  </tbody>\n",
       "</table>\n",
       "<p>457 rows × 18 columns</p>\n",
       "</div>"
      ],
      "text/plain": [
       "     GENDER   AGE   RF    SBP         HR1   ST    HR2  CRT  KIL  EVENT  \\\n",
       "0       1.0  33.0  0.0  132.0   91.579173  1.0   90.0  0.8  1.0    0.0   \n",
       "1       1.0  69.0  0.0  147.0   52.785861  0.0   52.0  1.4  1.0    0.0   \n",
       "2       1.0  63.0  0.0  142.0   40.692798  1.0   44.0  1.1  3.0    1.0   \n",
       "3       0.0  79.0  0.0  147.0  106.420820  1.0  110.0  0.9  1.0    1.0   \n",
       "4       0.0  61.0  0.0  107.0   82.148302  0.0   80.0  1.1  1.0    0.0   \n",
       "..      ...   ...  ...    ...         ...  ...    ...  ...  ...    ...   \n",
       "452     1.0  69.0  0.0   95.0   99.801711  0.0  103.0  1.6  3.0    1.0   \n",
       "453     1.0  51.0  1.0  140.0   87.339759  1.0   90.0  1.0  3.0    1.0   \n",
       "454     0.0  57.0  0.0  120.0  113.138910  0.0  117.0  1.0  3.0    1.0   \n",
       "455     1.0  87.0  0.0  149.0   50.035793  1.0   53.0  1.4  1.0    1.0   \n",
       "456     1.0  72.0  0.0  173.0   68.337300  1.0   65.0  1.2  1.0    0.0   \n",
       "\n",
       "             HR  GUIDELINES  Prob_Discrete (Event=1)  Prob_Discrete (Event=0)  \\\n",
       "0     90.092893           0                 0.053975                 0.115753   \n",
       "1     52.046227           0                 0.010867                 0.226580   \n",
       "2     43.805459           1                 0.024054                 0.000131   \n",
       "3    109.789460           0                 0.014546                 0.031184   \n",
       "4     80.126371           0                 0.002929                 0.061042   \n",
       "..          ...         ...                      ...                      ...   \n",
       "452  102.811865           1                 0.004843                 0.000257   \n",
       "453   89.843515           1                 0.004273                 0.000024   \n",
       "454  116.772877           1                 0.001305                 0.000069   \n",
       "455   52.825635           1                 0.094664                 0.017771   \n",
       "456   65.196312           1                 0.094664                 0.017771   \n",
       "\n",
       "     Prob_Continuous (Event=1)  Prob_Continuous (Event=0)  \\\n",
       "0                 6.464910e-11               7.024320e-08   \n",
       "1                 4.051132e-07               8.501240e-07   \n",
       "2                 1.370811e-07               5.032537e-07   \n",
       "3                 2.905065e-07               1.677164e-08   \n",
       "4                 2.506861e-07               3.083867e-06   \n",
       "..                         ...                        ...   \n",
       "452               1.597829e-07               1.239555e-07   \n",
       "453               6.426158e-08               1.326721e-06   \n",
       "454               4.810928e-08               2.712854e-08   \n",
       "455               1.028959e-07               4.294798e-08   \n",
       "456               3.815032e-07               4.446717e-07   \n",
       "\n",
       "     Probabilidade (Evento=1)  Probabilidade (Evento=0)  \n",
       "0                8.908806e-12              1.336615e-08  \n",
       "1                1.124005e-08              3.166463e-07  \n",
       "2                8.418372e-09              1.085012e-10  \n",
       "3                1.078890e-08              8.597765e-10  \n",
       "4                1.874505e-09              3.094537e-07  \n",
       "..                        ...                       ...  \n",
       "452              1.975676e-09              5.231226e-11  \n",
       "453              7.010063e-10              5.233928e-11  \n",
       "454              1.603167e-10              3.084408e-12  \n",
       "455              2.486834e-08              1.254670e-09  \n",
       "456              9.220335e-08              1.299051e-08  \n",
       "\n",
       "[457 rows x 18 columns]"
      ]
     },
     "execution_count": 269,
     "metadata": {},
     "output_type": "execute_result"
    }
   ],
   "source": [
    "df"
   ]
  }
 ],
 "metadata": {
  "kernelspec": {
   "display_name": "base",
   "language": "python",
   "name": "python3"
  },
  "language_info": {
   "codemirror_mode": {
    "name": "ipython",
    "version": 3
   },
   "file_extension": ".py",
   "mimetype": "text/x-python",
   "name": "python",
   "nbconvert_exporter": "python",
   "pygments_lexer": "ipython3",
   "version": "3.9.12"
  },
  "orig_nbformat": 4
 },
 "nbformat": 4,
 "nbformat_minor": 2
}
